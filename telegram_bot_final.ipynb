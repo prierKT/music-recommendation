{
 "cells": [
  {
   "cell_type": "code",
   "execution_count": 1,
   "id": "53b61ed5",
   "metadata": {},
   "outputs": [],
   "source": [
    "import telegram, requests, pydub, urllib.parse, pandas ,program, os\n",
    "from telegram.ext import Updater, MessageHandler, Filters, CommandHandler, CallbackQueryHandler\n",
    "from telegram import InlineKeyboardButton, InlineKeyboardMarkup, InputMediaPhoto\n",
    "from os import path\n",
    "from pydub import AudioSegment\n",
    "from bs4 import BeautifulSoup\n",
    "\n",
    "class TelegramBot:\n",
    "\n",
    "    def __init__(self):\n",
    "        self.__token='1854272659:AAHvLiFo6ecRABj0Kb7Wk6NEkCeqnO9RaMQ'\n",
    "        self.__bot = telegram.Bot(token=self.__token)\n",
    "        self.__URL = ('https://api.telegram.org/bot{}/getUpdates').format(self.__token)\n",
    "        self.__response = requests.get(self.__URL).json()\n",
    "        self.__result = self.__response['result']\n",
    "        self.__last_update_id = 0\n",
    "        self.__updater = Updater(self.__token, use_context=True)\n",
    "        \n",
    "        result=self.__result\n",
    "        print(\"입력된 채팅수 : {}\".format(len(result)))\n",
    "        \n",
    "        last_update_id=self.__last_update_id\n",
    "        if len(self.__result) > 0:\n",
    "            last_update_id = result[len(result)-1]['update_id']\n",
    "            \n",
    "        print(\"마지막에 입력된 채팅 ID : {}\".format(last_update_id))\n",
    "        \n",
    "        if last_update_id != 0:\n",
    "            URL = ('https://api.telegram.org/bot{}/getUpdates').format(self.__token)\n",
    "            response = requests.get(\"{}?offset={}\".format(URL,last_update_id+1)).json()\n",
    "        \n",
    "        self.__cluster_group=[]\n",
    "        for i in range(0,10):\n",
    "            self.__cluster_group.append(pandas.read_csv(\"cluster\"+str(i)+\".csv\"))\n",
    "        self.__cluster_label_list=[]\n",
    "        for i in range(len(self.__cluster_group)):\n",
    "            self.__cluster_label_list.append(self.__cluster_group[i]['Label'][0])\n",
    "        \n",
    "        self.__comment_list=[]\n",
    "        comment=open('comment.txt',encoding='UTF8')\n",
    "        for data in comment.readlines():\n",
    "            self.__comment_list.append(str(data)[:-1])\n",
    "            \n",
    "        self.music = program.RecomendMusic('Dnn.h5')\n",
    "        \n",
    "        print('start telegram chat bot')\n",
    "        \n",
    "        \n",
    "    def __del__(self):\n",
    "        print(\"클래스 종료\")\n",
    "        \n",
    "        \n",
    "    def stop_command(self, update, context):\n",
    "        print(\"종료됬습니다.\")\n",
    "        self.__updater.stop()\n",
    "        print(\"종료됬습니다.\")\n",
    "        \n",
    "        \n",
    "    def get_voice(self, update, context):\n",
    "        bot = self.__bot\n",
    "        file = bot.getFile(update.message.voice.file_id)\n",
    "        print (\"file_id: \" + str(update.message.voice.file_id))\n",
    "        file_id = str(update.message.voice.file_id)\n",
    "        file.download(\"music/\"+file_id+'.ogg')\n",
    "        ogg_version = AudioSegment.from_ogg(\"music/\"+file_id+'.ogg')\n",
    "        ogg_version.export(\"music/\"+file_id+'.wav', format=\"wav\")\n",
    "        # 버튼 생성\n",
    "        context.bot.send_message(\n",
    "        chat_id=update.message.chat_id,\n",
    "        text=\"<b>잠시만 기다려 주시겠어요?</b>\\n___노래목록__생성중___\",\n",
    "        parse_mode=\"HTML\")\n",
    "        \n",
    "        feature_df, mfccs = self.music.feature_extraction(\"music/\"+file_id+'.wav')\n",
    "        dis_df = self.music.dtw_distance(mfccs)\n",
    "        input_data = self.music.make_input_data(feature_df, dis_df)\n",
    "        df=self.music.recomending(input_data)\n",
    "            \n",
    "        media_list=[]\n",
    "        buttons_list=[]\n",
    "            \n",
    "        for data in df['Title']:\n",
    "            artist=str(data).split('_')[0]\n",
    "            html = \"https://www.melon.com/search/total/index.htm?q=\"+ urllib.parse.quote(artist)+'&section=&linkOrText=T&ipath=srch_form'\n",
    "            header01 = {'User-Agent':'Mozilla/5.0'}\n",
    "            req=requests.get(html, headers=header01)\n",
    "            soup = BeautifulSoup(req.text, 'html.parser')\n",
    "            try:\n",
    "                photo_url=str(soup.find_all('img')[2])\n",
    "                if photo_url.find('.jpg') == -1:\n",
    "                    photo_url = open('img.jpg', 'rb')\n",
    "                else:\n",
    "                    photo_url=photo_url.split('src=\"')[1]\n",
    "                    photo_url=photo_url.split('.jpg')[0]+\".jpg\"\n",
    "            except:\n",
    "                photo_url = open('img.jpg', 'rb')\n",
    "            media_list.append(InputMediaPhoto(media=photo_url,caption=str(data)))\n",
    "            buttons_list.append([InlineKeyboardButton(str(data),\"https://www.youtube.com/results?search_query=\"+urllib.parse.quote(str(data).replace(\" \",\"+\")) )])\n",
    "            \n",
    "        self.__bot.send_media_group(chat_id=update.message.chat_id,\n",
    "                                        media=media_list)\n",
    "            \n",
    "        buttons = buttons_list\n",
    "            \n",
    "        reply_markup = InlineKeyboardMarkup(buttons)\n",
    "        Prediction = 0\n",
    "        for i in range(len(self.__cluster_label_list)):\n",
    "            if df['Label'].unique()[0] == self.__cluster_label_list[i]:\n",
    "                Prediction = i\n",
    "            \n",
    "        context.bot.send_message(\n",
    "            text ='<b>\"'+df['Label'].unique()[0]+'\"</b>\\n'+ self.__comment_list[Prediction],\n",
    "            parse_mode=\"HTML\",\n",
    "            chat_id=update.message.chat_id,\n",
    "            reply_markup=reply_markup\n",
    "            )\n",
    "        os.remove(\"music/\"+file_id+'.ogg')\n",
    "        os.remove(\"music/\"+file_id+'.wav')\n",
    "    \n",
    "    \n",
    "    def music_recommend_buttons(self, update, context):\n",
    "        music_recommend_buttons_list=[]\n",
    "        for i in range(0,10):\n",
    "            music_recommend_buttons_list.append([InlineKeyboardButton( self.__cluster_group[i]['Label'][0] ,callback_data=i)])\n",
    "        buttons = music_recommend_buttons_list\n",
    "\n",
    "        reply_markup = InlineKeyboardMarkup( buttons )\n",
    "\n",
    "        context.bot.send_message(\n",
    "            chat_id=update.message.chat_id\n",
    "            , text=\"<b>원하시는 취향을 선택해주세요</b>\"\n",
    "            ,parse_mode=\"HTML\",\n",
    "             reply_markup=reply_markup)\n",
    "        \n",
    "\n",
    "    def callback_get(self, update, context):\n",
    "        input_data=update.callback_query.data\n",
    "        if int(input_data) >=0 and int(input_data) <=9:\n",
    "            df_cluster=self.__cluster_group[int(input_data)]\n",
    "            recommand_song_list=df_cluster.sample(5)['Title']\n",
    "            \n",
    "            buttons_list = []\n",
    "            for data in recommand_song_list:\n",
    "                buttons_list.append([InlineKeyboardButton(str(data),\"https://www.youtube.com/results?search_query=\"+urllib.parse.quote(str(data).replace(\" \",\"+\")) )])\n",
    "            \n",
    "            buttons = buttons_list\n",
    "            \n",
    "            reply_markup = InlineKeyboardMarkup(buttons)\n",
    "            \n",
    "            context.bot.send_message(\n",
    "                text='<b>\"'+self.__cluster_group[int(input_data)]['Label'][0]+'\"</b>\\n'+self.__comment_list[int(input_data)],\n",
    "                parse_mode=\"HTML\",\n",
    "                chat_id=update.callback_query.message.chat_id,\n",
    "                reply_markup=reply_markup\n",
    "                )\n",
    "            \n",
    "            \n",
    "    def runUpdate(self):\n",
    "        self.index()\n",
    "    \n",
    "    \n",
    "    def index(self):\n",
    "        updater = self.__updater\n",
    "        \n",
    "        voice_handler = MessageHandler(Filters.voice, self.get_voice)\n",
    "        updater.dispatcher.add_handler(voice_handler)\n",
    "        \n",
    "        updater.dispatcher.add_handler(CallbackQueryHandler(self.callback_get))\n",
    "        \n",
    "        music_handler = CommandHandler('music', self.music_recommend_buttons)\n",
    "        updater.dispatcher.add_handler(music_handler)\n",
    "        \n",
    "        stop_handler = CommandHandler('stop', self.stop_command)\n",
    "        updater.dispatcher.add_handler(stop_handler)\n",
    "        \n",
    "        updater.start_polling(poll_interval=3,drop_pending_updates=True)"
   ]
  },
  {
   "cell_type": "code",
   "execution_count": 2,
   "id": "ad996e87",
   "metadata": {},
   "outputs": [
    {
     "name": "stdout",
     "output_type": "stream",
     "text": [
      "입력된 채팅수 : 0\n",
      "마지막에 입력된 채팅 ID : 0\n",
      "start telegram chat bot\n",
      "file_id: AwACAgUAAxkBAAIGJWC93NxylqxoQd_AXsXyDgnnIohtAALJAgACCfrxVQWhwp9bjWDGHwQ\n"
     ]
    },
    {
     "name": "stderr",
     "output_type": "stream",
     "text": [
      "C:\\Users\\020\\anaconda3\\lib\\site-packages\\librosa\\filters.py:238: UserWarning: Empty filters detected in mel frequency basis. Some channels will produce empty responses. Try increasing your sampling rate (and fmax) or reducing n_mels.\n",
      "  warnings.warn(\n"
     ]
    },
    {
     "name": "stdout",
     "output_type": "stream",
     "text": [
      "Prediction: 1\n",
      "file_id: AwACAgUAAxkBAAIGLWC93SNAP6yXV7GFRvF_EG9_RpbvAAJRAwACKNnpVVdxqeyWUaN6HwQ\n"
     ]
    },
    {
     "name": "stderr",
     "output_type": "stream",
     "text": [
      "C:\\Users\\020\\anaconda3\\lib\\site-packages\\librosa\\filters.py:238: UserWarning: Empty filters detected in mel frequency basis. Some channels will produce empty responses. Try increasing your sampling rate (and fmax) or reducing n_mels.\n",
      "  warnings.warn(\n"
     ]
    },
    {
     "name": "stdout",
     "output_type": "stream",
     "text": [
      "Prediction: 3\n",
      "file_id: AwACAgUAAxkBAAIGNWC93Vc4NWvm4qJm1CyiD1tk6urXAAJSAwACKNnpVfBU_ik4FotfHwQ\n"
     ]
    },
    {
     "name": "stderr",
     "output_type": "stream",
     "text": [
      "C:\\Users\\020\\anaconda3\\lib\\site-packages\\librosa\\filters.py:238: UserWarning: Empty filters detected in mel frequency basis. Some channels will produce empty responses. Try increasing your sampling rate (and fmax) or reducing n_mels.\n",
      "  warnings.warn(\n"
     ]
    },
    {
     "name": "stdout",
     "output_type": "stream",
     "text": [
      "Prediction: 3\n",
      "file_id: AwACAgUAAxkBAAIGPWC93bVXUjiTRnHvakIYYFLmuYDlAAJTAwACKNnpVSvIIA_zcHwDHwQ\n"
     ]
    },
    {
     "name": "stderr",
     "output_type": "stream",
     "text": [
      "C:\\Users\\020\\anaconda3\\lib\\site-packages\\librosa\\filters.py:238: UserWarning: Empty filters detected in mel frequency basis. Some channels will produce empty responses. Try increasing your sampling rate (and fmax) or reducing n_mels.\n",
      "  warnings.warn(\n"
     ]
    },
    {
     "name": "stdout",
     "output_type": "stream",
     "text": [
      "Prediction: 4\n",
      "file_id: AwACAgUAAxkBAAIGRmC935Ahk9eyIpBey8ADpYbEgPGSAAJXAwACKNnpVWSMmXyNuYJ2HwQ\n"
     ]
    },
    {
     "name": "stderr",
     "output_type": "stream",
     "text": [
      "C:\\Users\\020\\anaconda3\\lib\\site-packages\\librosa\\filters.py:238: UserWarning: Empty filters detected in mel frequency basis. Some channels will produce empty responses. Try increasing your sampling rate (and fmax) or reducing n_mels.\n",
      "  warnings.warn(\n"
     ]
    },
    {
     "name": "stdout",
     "output_type": "stream",
     "text": [
      "Prediction: 3\n",
      "file_id: AwACAgUAAxkBAAIGUWC95glnAaRdkfE1FSl6BmJ75hRuAAISAgADJ_FVYVa4u1LlQIMfBA\n"
     ]
    },
    {
     "name": "stderr",
     "output_type": "stream",
     "text": [
      "C:\\Users\\020\\anaconda3\\lib\\site-packages\\librosa\\filters.py:238: UserWarning: Empty filters detected in mel frequency basis. Some channels will produce empty responses. Try increasing your sampling rate (and fmax) or reducing n_mels.\n",
      "  warnings.warn(\n"
     ]
    },
    {
     "name": "stdout",
     "output_type": "stream",
     "text": [
      "Prediction: 4\n",
      "file_id: AwACAgUAAxkBAAIGWWC95ke3RK98jg98vrpKAqMTYynMAAITAgADJ_FVv36JjuwyjMgfBA\n"
     ]
    },
    {
     "name": "stderr",
     "output_type": "stream",
     "text": [
      "C:\\Users\\020\\anaconda3\\lib\\site-packages\\librosa\\filters.py:238: UserWarning: Empty filters detected in mel frequency basis. Some channels will produce empty responses. Try increasing your sampling rate (and fmax) or reducing n_mels.\n",
      "  warnings.warn(\n"
     ]
    },
    {
     "name": "stdout",
     "output_type": "stream",
     "text": [
      "Prediction: 3\n",
      "file_id: AwACAgUAAxkBAAIGYWC95oe8YPrXjl4UaDG_Rq-JFT6VAAIVAgADJ_FVb4Sgw7rxDKAfBA\n"
     ]
    },
    {
     "name": "stderr",
     "output_type": "stream",
     "text": [
      "C:\\Users\\020\\anaconda3\\lib\\site-packages\\librosa\\filters.py:238: UserWarning: Empty filters detected in mel frequency basis. Some channels will produce empty responses. Try increasing your sampling rate (and fmax) or reducing n_mels.\n",
      "  warnings.warn(\n"
     ]
    },
    {
     "name": "stdout",
     "output_type": "stream",
     "text": [
      "Prediction: 3\n",
      "file_id: AwACAgUAAxkBAAIGaWC95uDu3unJ4aF8RyO13OavrI7tAAIWAgADJ_FV3YtJtrq8Lv8fBA\n"
     ]
    },
    {
     "name": "stderr",
     "output_type": "stream",
     "text": [
      "C:\\Users\\020\\anaconda3\\lib\\site-packages\\librosa\\filters.py:238: UserWarning: Empty filters detected in mel frequency basis. Some channels will produce empty responses. Try increasing your sampling rate (and fmax) or reducing n_mels.\n",
      "  warnings.warn(\n"
     ]
    },
    {
     "name": "stdout",
     "output_type": "stream",
     "text": [
      "Prediction: 3\n",
      "file_id: AwACAgUAAxkBAAIGcWC95zUfdZkUsnaYliu_pWG_TQdmAAIXAgADJ_FV1URyQQdHIFcfBA\n"
     ]
    },
    {
     "name": "stderr",
     "output_type": "stream",
     "text": [
      "C:\\Users\\020\\anaconda3\\lib\\site-packages\\librosa\\filters.py:238: UserWarning: Empty filters detected in mel frequency basis. Some channels will produce empty responses. Try increasing your sampling rate (and fmax) or reducing n_mels.\n",
      "  warnings.warn(\n"
     ]
    },
    {
     "name": "stdout",
     "output_type": "stream",
     "text": [
      "Prediction: 3\n",
      "file_id: AwACAgUAAxkBAAIGeWC95_DGy0ehWgGFMm6oDpPF8liHAAIYAgADJ_FViezDdyFWgs0fBA\n"
     ]
    },
    {
     "name": "stderr",
     "output_type": "stream",
     "text": [
      "C:\\Users\\020\\anaconda3\\lib\\site-packages\\librosa\\filters.py:238: UserWarning: Empty filters detected in mel frequency basis. Some channels will produce empty responses. Try increasing your sampling rate (and fmax) or reducing n_mels.\n",
      "  warnings.warn(\n"
     ]
    },
    {
     "name": "stdout",
     "output_type": "stream",
     "text": [
      "Prediction: 1\n"
     ]
    }
   ],
   "source": [
    "telegramBot=TelegramBot()\n",
    "telegramBot.runUpdate()\n",
    "del telegramBot"
   ]
  },
  {
   "cell_type": "code",
   "execution_count": null,
   "id": "eaadb5dc",
   "metadata": {},
   "outputs": [],
   "source": []
  }
 ],
 "metadata": {
  "kernelspec": {
   "display_name": "Python 3",
   "language": "python",
   "name": "python3"
  },
  "language_info": {
   "codemirror_mode": {
    "name": "ipython",
    "version": 3
   },
   "file_extension": ".py",
   "mimetype": "text/x-python",
   "name": "python",
   "nbconvert_exporter": "python",
   "pygments_lexer": "ipython3",
   "version": "3.8.5"
  }
 },
 "nbformat": 4,
 "nbformat_minor": 5
}
